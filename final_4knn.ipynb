{
  "nbformat": 4,
  "nbformat_minor": 0,
  "metadata": {
    "kernelspec": {
      "language": "python",
      "display_name": "Python 3",
      "name": "python3"
    },
    "language_info": {
      "name": "python",
      "version": "3.7.10",
      "mimetype": "text/x-python",
      "codemirror_mode": {
        "name": "ipython",
        "version": 3
      },
      "pygments_lexer": "ipython3",
      "nbconvert_exporter": "python",
      "file_extension": ".py"
    },
    "colab": {
      "name": "final-4knn.ipynb",
      "provenance": []
    }
  },
  "cells": [
    {
      "cell_type": "markdown",
      "metadata": {
        "id": "rNRzaHTdgxyl"
      },
      "source": [
        "## Part1: Data"
      ]
    },
    {
      "cell_type": "code",
      "metadata": {
        "_uuid": "8f2839f25d086af736a60e9eeb907d3b93b6e0e5",
        "_cell_guid": "b1076dfc-b9ad-4769-8c92-a6c4dae69d19",
        "execution": {
          "iopub.status.busy": "2021-11-30T01:21:44.914461Z",
          "iopub.execute_input": "2021-11-30T01:21:44.915276Z",
          "iopub.status.idle": "2021-11-30T01:21:52.645837Z",
          "shell.execute_reply.started": "2021-11-30T01:21:44.915165Z",
          "shell.execute_reply": "2021-11-30T01:21:52.645086Z"
        },
        "trusted": true,
        "id": "cUlGm8VyguQu"
      },
      "source": [
        "# This Python 3 environment comes with many helpful analytics libraries installed\n",
        "# It is defined by the kaggle/python Docker image: https://github.com/kaggle/docker-python\n",
        "# For example, here's several helpful packages to load\n",
        "\n",
        "import numpy as np # linear algebra\n",
        "import pandas as pd # data processing, CSV file I/O (e.g. pd.read_csv)\n",
        "\n",
        "# Input data files are available in the read-only \"../input/\" directory\n",
        "# For example, running this (by clicking run or pressing Shift+Enter) will list all files under the input directory\n",
        "i=0\n",
        "import os\n",
        "for dirname, _, filenames in os.walk('/kaggle/input'):\n",
        "    for filename in filenames:\n",
        "        #print(os.path.join(dirname, filename))\n",
        "        i=i+1\n",
        "\n",
        "# You can write up to 20GB to the current directory (/kaggle/working/) that gets preserved as output when you create a version using \"Save & Run All\" \n",
        "# You can also write temporary files to /kaggle/temp/, but they won't be saved outside of the current session"
      ],
      "execution_count": null,
      "outputs": []
    },
    {
      "cell_type": "code",
      "metadata": {
        "execution": {
          "iopub.status.busy": "2021-11-30T01:22:38.877055Z",
          "iopub.execute_input": "2021-11-30T01:22:38.877304Z",
          "iopub.status.idle": "2021-11-30T01:22:44.192446Z",
          "shell.execute_reply.started": "2021-11-30T01:22:38.877275Z",
          "shell.execute_reply": "2021-11-30T01:22:44.191574Z"
        },
        "trusted": true,
        "id": "PAMXmHLzguQy"
      },
      "source": [
        "import pandas as pd \n",
        "import numpy as np \n",
        "import tensorflow as tf\n",
        "import matplotlib.pyplot as plt \n",
        "from PIL import Image\n",
        "from sklearn.model_selection import train_test_split\n",
        "from sklearn.metrics import log_loss\n",
        "import os\n",
        "import time\n",
        "import math\n",
        "from tensorflow.keras.applications.resnet_v2 import ResNet152V2\n",
        "from tensorflow.keras.applications.vgg16 import VGG16\n",
        "from tensorflow.keras.applications.vgg19 import VGG19\n",
        "from tensorflow.keras.applications.xception import Xception\n",
        "from tensorflow.keras.applications.resnet50 import ResNet50\n",
        "from tensorflow.keras.layers import Input, Dropout\n",
        "from tensorflow.keras.layers import Dense, GlobalAveragePooling2D\n",
        "from tensorflow.keras.models import Model\n",
        "from tensorflow.keras.applications.resnet50 import ResNet50\n",
        "from tensorflow.keras.applications import EfficientNetB0\n",
        "from tensorflow.keras.applications import MobileNet\n",
        "from tensorflow.keras.callbacks import EarlyStopping\n",
        "from tensorflow.keras.metrics import RootMeanSquaredError\n",
        "from tensorflow.keras.optimizers import Adam"
      ],
      "execution_count": null,
      "outputs": []
    },
    {
      "cell_type": "code",
      "metadata": {
        "execution": {
          "iopub.status.busy": "2021-11-30T01:24:27.314072Z",
          "iopub.execute_input": "2021-11-30T01:24:27.314346Z",
          "iopub.status.idle": "2021-11-30T01:24:27.320985Z",
          "shell.execute_reply.started": "2021-11-30T01:24:27.314316Z",
          "shell.execute_reply": "2021-11-30T01:24:27.320131Z"
        },
        "trusted": true,
        "id": "63T9RAUfguQz"
      },
      "source": [
        "PATH = \"../input/applications-of-deep-learning-wustlfall-2021/city\"\n",
        "PATH_TRAIN = os.path.join(PATH, \"train.csv\")\n",
        "PATH_TEST = os.path.join(PATH, \"test.csv\")"
      ],
      "execution_count": null,
      "outputs": []
    },
    {
      "cell_type": "code",
      "metadata": {
        "execution": {
          "iopub.status.busy": "2021-11-30T01:24:29.916092Z",
          "iopub.execute_input": "2021-11-30T01:24:29.916553Z",
          "iopub.status.idle": "2021-11-30T01:24:29.994663Z",
          "shell.execute_reply.started": "2021-11-30T01:24:29.916514Z",
          "shell.execute_reply": "2021-11-30T01:24:29.993964Z"
        },
        "trusted": true,
        "id": "lN4piZIIguQz"
      },
      "source": [
        "df_train = pd.read_csv(PATH_TRAIN)\n",
        "df_test = pd.read_csv(PATH_TEST)\n",
        "\n",
        "df_train['filename'] = df_train.id.astype(str) + \".jpg\"\n",
        "df_test['filename'] = df_test.id.astype(str) + \".jpg\""
      ],
      "execution_count": null,
      "outputs": []
    },
    {
      "cell_type": "code",
      "metadata": {
        "execution": {
          "iopub.status.busy": "2021-11-30T01:24:32.468676Z",
          "iopub.execute_input": "2021-11-30T01:24:32.469215Z",
          "iopub.status.idle": "2021-11-30T01:24:32.484986Z",
          "shell.execute_reply.started": "2021-11-30T01:24:32.469174Z",
          "shell.execute_reply": "2021-11-30T01:24:32.484314Z"
        },
        "trusted": true,
        "id": "lBHjfuehguQ0"
      },
      "source": [
        "df_train.head()"
      ],
      "execution_count": null,
      "outputs": []
    },
    {
      "cell_type": "code",
      "metadata": {
        "execution": {
          "iopub.status.busy": "2021-11-30T01:24:35.886152Z",
          "iopub.execute_input": "2021-11-30T01:24:35.886715Z",
          "iopub.status.idle": "2021-11-30T01:24:35.897412Z",
          "shell.execute_reply.started": "2021-11-30T01:24:35.886672Z",
          "shell.execute_reply": "2021-11-30T01:24:35.896652Z"
        },
        "trusted": true,
        "id": "8RSjAxmOguQ0"
      },
      "source": [
        "df_test.head()"
      ],
      "execution_count": null,
      "outputs": []
    },
    {
      "cell_type": "code",
      "metadata": {
        "execution": {
          "iopub.status.busy": "2021-11-30T01:24:47.707891Z",
          "iopub.execute_input": "2021-11-30T01:24:47.708181Z",
          "iopub.status.idle": "2021-11-30T01:24:48.001094Z",
          "shell.execute_reply.started": "2021-11-30T01:24:47.708150Z",
          "shell.execute_reply": "2021-11-30T01:24:48.000401Z"
        },
        "trusted": true,
        "id": "mqhCidGHguQ1"
      },
      "source": [
        "img = Image.open('../input/applications-of-deep-learning-wustlfall-2021/city/1.jpg')\n",
        "#img = img.resize((512,512),Image.ANTIALIAS)\n",
        "img_arr = np.asarray(img)\n",
        "fig,ax = plt.subplots(figsize=(6,6))\n",
        "ax.imshow(img_arr)\n",
        "ax.set_title('Original Figure')"
      ],
      "execution_count": null,
      "outputs": []
    },
    {
      "cell_type": "code",
      "metadata": {
        "execution": {
          "iopub.status.busy": "2021-11-30T01:25:28.767631Z",
          "iopub.execute_input": "2021-11-30T01:25:28.768004Z",
          "iopub.status.idle": "2021-11-30T01:25:29.456996Z",
          "shell.execute_reply.started": "2021-11-30T01:25:28.767970Z",
          "shell.execute_reply": "2021-11-30T01:25:29.456334Z"
        },
        "trusted": true,
        "id": "x4c60bjzguQ2"
      },
      "source": [
        "#Horizontal/Vertical Flip\n",
        "datagen = tf.keras.preprocessing.image.ImageDataGenerator(\n",
        "            horizontal_flip = True,\n",
        "            vertical_flip = True,\n",
        "            fill_mode = 'nearest')\n",
        "aug_iter = datagen.flow(np.expand_dims(img_arr,axis=0), batch_size=1)\n",
        "\n",
        "fig, ax = plt.subplots(nrows=1,ncols=5,figsize=(15,15))\n",
        "# generate batch of images\n",
        "for i in range(5):\n",
        "    image = next(aug_iter)[0].astype('uint8')\n",
        "    ax[i].imshow(image)\n",
        "    ax[i].axis('off')\n",
        "    ax[i].set_title('Horizonal/Vertical Flipped')"
      ],
      "execution_count": null,
      "outputs": []
    },
    {
      "cell_type": "code",
      "metadata": {
        "execution": {
          "iopub.status.busy": "2021-11-30T01:25:32.427989Z",
          "iopub.execute_input": "2021-11-30T01:25:32.428856Z",
          "iopub.status.idle": "2021-11-30T01:25:32.945964Z",
          "shell.execute_reply.started": "2021-11-30T01:25:32.428801Z",
          "shell.execute_reply": "2021-11-30T01:25:32.945298Z"
        },
        "trusted": true,
        "id": "PlIrZjnwguQ2"
      },
      "source": [
        "#Horizontal/Vertical Shift\n",
        "datagen = tf.keras.preprocessing.image.ImageDataGenerator(\n",
        "            width_shift_range=0.1, \n",
        "            height_shift_range=0.1,\n",
        "            fill_mode = 'nearest')\n",
        "aug_iter = datagen.flow(np.expand_dims(img_arr,axis=0), batch_size=1)\n",
        "\n",
        "fig, ax = plt.subplots(nrows=1,ncols=3,figsize=(15,15))\n",
        "# generate batch of images\n",
        "for i in range(3):\n",
        "    image = next(aug_iter)[0].astype('uint8')\n",
        "    ax[i].imshow(image)\n",
        "    ax[i].axis('off')\n",
        "    ax[i].set_title('Vertical/Horizontal Shift')"
      ],
      "execution_count": null,
      "outputs": []
    },
    {
      "cell_type": "code",
      "metadata": {
        "execution": {
          "iopub.status.busy": "2021-11-30T01:25:36.455045Z",
          "iopub.execute_input": "2021-11-30T01:25:36.455728Z",
          "iopub.status.idle": "2021-11-30T01:25:37.165522Z",
          "shell.execute_reply.started": "2021-11-30T01:25:36.455689Z",
          "shell.execute_reply": "2021-11-30T01:25:37.164812Z"
        },
        "trusted": true,
        "id": "rsBQoOAiguQ3"
      },
      "source": [
        "#rotation\n",
        "datagen = tf.keras.preprocessing.image.ImageDataGenerator(\n",
        "            rotation_range = 45,\n",
        "            fill_mode = 'nearest')\n",
        "aug_iter = datagen.flow(np.expand_dims(img_arr,axis=0), batch_size=1)\n",
        "\n",
        "fig, ax = plt.subplots(nrows=1,ncols=5,figsize=(15,15))\n",
        "# generate batch of images\n",
        "for i in range(5):\n",
        "    image = next(aug_iter)[0].astype('uint8')\n",
        "    ax[i].imshow(image)\n",
        "    ax[i].axis('off')\n",
        "    ax[i].set_title('Rotation')"
      ],
      "execution_count": null,
      "outputs": []
    },
    {
      "cell_type": "code",
      "metadata": {
        "execution": {
          "iopub.status.busy": "2021-11-30T01:25:40.667967Z",
          "iopub.execute_input": "2021-11-30T01:25:40.668672Z",
          "iopub.status.idle": "2021-11-30T01:25:41.191027Z",
          "shell.execute_reply.started": "2021-11-30T01:25:40.668632Z",
          "shell.execute_reply": "2021-11-30T01:25:41.190366Z"
        },
        "trusted": true,
        "id": "grp9u-R7guQ4"
      },
      "source": [
        "#Brightness\n",
        "datagen = tf.keras.preprocessing.image.ImageDataGenerator(\n",
        "            brightness_range = [0.8,1.1],\n",
        "            fill_mode = 'nearest')\n",
        "aug_iter = datagen.flow(np.expand_dims(img_arr,axis=0), batch_size=1)\n",
        "\n",
        "fig, ax = plt.subplots(nrows=1,ncols=5,figsize=(15,15))\n",
        "# generate batch of images\n",
        "for i in range(5):\n",
        "    image = next(aug_iter)[0].astype('uint8')\n",
        "    ax[i].imshow(image)\n",
        "    ax[i].axis('off')\n",
        "    ax[i].set_title('Brighten')"
      ],
      "execution_count": null,
      "outputs": []
    },
    {
      "cell_type": "code",
      "metadata": {
        "execution": {
          "iopub.status.busy": "2021-11-30T01:25:49.620254Z",
          "iopub.execute_input": "2021-11-30T01:25:49.621056Z",
          "iopub.status.idle": "2021-11-30T01:25:49.894799Z",
          "shell.execute_reply.started": "2021-11-30T01:25:49.621004Z",
          "shell.execute_reply": "2021-11-30T01:25:49.893275Z"
        },
        "trusted": true,
        "id": "LYqT_WyBguQ4"
      },
      "source": [
        "#How brightness influence dark pictures\n",
        "## original pictures\n",
        "img2 = Image.open('../input/applications-of-deep-learning-wustlfall-2021/city/10072.jpg')\n",
        "#img = img.resize((IMAGE_WIDTH,IMAGE_HEIGHT),Image.ANTIALIAS)\n",
        "img2_arr = np.asarray(img2)\n",
        "fig,ax = plt.subplots(figsize=(6,6))\n",
        "ax.imshow(img2_arr)\n",
        "ax.set_title('Original Figure')"
      ],
      "execution_count": null,
      "outputs": []
    },
    {
      "cell_type": "code",
      "metadata": {
        "execution": {
          "iopub.status.busy": "2021-11-30T01:25:54.357552Z",
          "iopub.execute_input": "2021-11-30T01:25:54.358383Z",
          "iopub.status.idle": "2021-11-30T01:25:54.890961Z",
          "shell.execute_reply.started": "2021-11-30T01:25:54.358318Z",
          "shell.execute_reply": "2021-11-30T01:25:54.890293Z"
        },
        "trusted": true,
        "id": "rRDk1718guQ4"
      },
      "source": [
        "#after brightness\n",
        "datagen = tf.keras.preprocessing.image.ImageDataGenerator(\n",
        "            brightness_range = [0.8,1.1],\n",
        "            fill_mode = 'nearest')\n",
        "aug_iter = datagen.flow(np.expand_dims(img2_arr,axis=0), batch_size=1)\n",
        "\n",
        "fig, ax = plt.subplots(nrows=1,ncols=5,figsize=(15,15))\n",
        "# generate batch of images\n",
        "for i in range(5):\n",
        "    image = next(aug_iter)[0].astype('uint8')\n",
        "    ax[i].imshow(image)\n",
        "    ax[i].axis('off')\n",
        "    ax[i].set_title('Brighten')"
      ],
      "execution_count": null,
      "outputs": []
    },
    {
      "cell_type": "code",
      "metadata": {
        "execution": {
          "iopub.status.busy": "2021-11-30T01:26:02.389225Z",
          "iopub.execute_input": "2021-11-30T01:26:02.389557Z",
          "iopub.status.idle": "2021-11-30T01:26:03.094688Z",
          "shell.execute_reply.started": "2021-11-30T01:26:02.389518Z",
          "shell.execute_reply": "2021-11-30T01:26:03.094018Z"
        },
        "trusted": true,
        "id": "NRVrDqjVguQ5"
      },
      "source": [
        "#zoom\n",
        "datagen = tf.keras.preprocessing.image.ImageDataGenerator(\n",
        "            zoom_range = [0.5,1.5],\n",
        "            fill_mode = 'nearest')\n",
        "aug_iter = datagen.flow(np.expand_dims(img_arr,axis=0), batch_size=1)\n",
        "\n",
        "fig, ax = plt.subplots(nrows=1,ncols=5,figsize=(15,15))\n",
        "# generate batch of images\n",
        "for i in range(5):\n",
        "    image = next(aug_iter)[0].astype('uint8')\n",
        "    ax[i].imshow(image)\n",
        "    ax[i].axis('off')\n",
        "    ax[i].set_title('Zoom')"
      ],
      "execution_count": null,
      "outputs": []
    },
    {
      "cell_type": "markdown",
      "metadata": {
        "id": "YAivBKgLg4UK"
      },
      "source": [
        "## Part2: Data Preparation"
      ]
    },
    {
      "cell_type": "code",
      "metadata": {
        "execution": {
          "iopub.status.busy": "2021-11-30T01:26:10.193532Z",
          "iopub.execute_input": "2021-11-30T01:26:10.194226Z",
          "iopub.status.idle": "2021-11-30T01:26:10.201617Z",
          "shell.execute_reply.started": "2021-11-30T01:26:10.194174Z",
          "shell.execute_reply": "2021-11-30T01:26:10.200567Z"
        },
        "trusted": true,
        "id": "ZcRvLoOfguQ5"
      },
      "source": [
        "#data preparation\n",
        "TRAIN_PCT = 0.9\n",
        "TRAIN_CUT = int(len(df_train) * TRAIN_PCT)\n",
        "\n",
        "df_train_cut = df_train[0:TRAIN_CUT]\n",
        "df_validate_cut = df_train[TRAIN_CUT:]\n",
        "\n",
        "print(f\"Training size: {len(df_train_cut)}\")\n",
        "print(f\"Validate size: {len(df_validate_cut)}\")"
      ],
      "execution_count": null,
      "outputs": []
    },
    {
      "cell_type": "code",
      "metadata": {
        "execution": {
          "iopub.status.busy": "2021-11-30T01:26:14.472415Z",
          "iopub.execute_input": "2021-11-30T01:26:14.472975Z",
          "iopub.status.idle": "2021-11-30T01:26:14.484863Z",
          "shell.execute_reply.started": "2021-11-30T01:26:14.472938Z",
          "shell.execute_reply": "2021-11-30T01:26:14.484026Z"
        },
        "trusted": true,
        "id": "ulZIKVGWguQ5"
      },
      "source": [
        "def DataGeneration(Height, Width, BatchSize):\n",
        "    start_time = time.time()\n",
        "    training_datagen = tf.keras.preprocessing.image.ImageDataGenerator(\n",
        "                rescale = 1./255,\n",
        "                horizontal_flip = True,\n",
        "                vertical_flip = True,\n",
        "                rotation_range = 30,\n",
        "                brightness_range = [0.8,1.5],\n",
        "                zoom_range = [0.8,1.2],\n",
        "                fill_mode = 'nearest')\n",
        "    train_generator = training_datagen.flow_from_dataframe(\n",
        "            dataframe = df_train_cut,\n",
        "            directory = PATH,\n",
        "            x_col=\"filename\",\n",
        "            y_col=\"sqft\",\n",
        "            target_size = (Height, Width),\n",
        "            batch_size = BatchSize,\n",
        "            class_mode = 'raw',\n",
        "            shuffle = True,\n",
        "            seed = 98)\n",
        "    validation_datagen = tf.keras.preprocessing.image.ImageDataGenerator(\n",
        "                rescale = 1./255)\n",
        "    val_generator = validation_datagen.flow_from_dataframe(\n",
        "            dataframe = df_validate_cut,\n",
        "            directory = PATH,\n",
        "            x_col=\"filename\",\n",
        "            y_col=\"sqft\",\n",
        "            target_size = (Height, Width),\n",
        "            batch_size = BATCH_SIZE,\n",
        "            class_mode = 'raw',\n",
        "            shuffle = True,\n",
        "            seed = 98)\n",
        "\n",
        "    print(f'----{time.time()-start_time} seconds----')\n",
        "    return train_generator, val_generator"
      ],
      "execution_count": null,
      "outputs": []
    },
    {
      "cell_type": "code",
      "metadata": {
        "execution": {
          "iopub.status.busy": "2021-11-30T01:26:17.421105Z",
          "iopub.execute_input": "2021-11-30T01:26:17.421701Z",
          "iopub.status.idle": "2021-11-30T01:26:17.429320Z",
          "shell.execute_reply.started": "2021-11-30T01:26:17.421654Z",
          "shell.execute_reply": "2021-11-30T01:26:17.427078Z"
        },
        "trusted": true,
        "id": "H2tn1lplguQ6"
      },
      "source": [
        "## Warmup with Expotential Decay Learning Rate Scheduler\n",
        "def scheduler(epoch):\n",
        "    if epoch<= WARMUP_EPOCH:\n",
        "        lr = INITIAL_LEARNINGRATE *epoch/WARMUP_EPOCH\n",
        "    \n",
        "    else:\n",
        "        lr = INITIAL_LEARNINGRATE * DECAY_RATE**(epoch-WARMUP_EPOCH)\n",
        "    \n",
        "    return lr"
      ],
      "execution_count": null,
      "outputs": []
    },
    {
      "cell_type": "markdown",
      "metadata": {
        "id": "0PlyasCAg_7k"
      },
      "source": [
        "## Part3: Transfer Learning"
      ]
    },
    {
      "cell_type": "code",
      "metadata": {
        "execution": {
          "iopub.status.busy": "2021-11-30T01:26:42.708648Z",
          "iopub.execute_input": "2021-11-30T01:26:42.708932Z",
          "iopub.status.idle": "2021-11-30T01:26:42.721606Z",
          "shell.execute_reply.started": "2021-11-30T01:26:42.708902Z",
          "shell.execute_reply": "2021-11-30T01:26:42.720682Z"
        },
        "trusted": true,
        "id": "33NYJ9ZyguQ6"
      },
      "source": [
        "#transfer learning\n",
        "def BuildModel(ModelName):\n",
        "    print('--------------Building The Model...--------------')\n",
        "    if ModelName == 'ResNet50' or ModelName == 'Xception':\n",
        "        if ModelName == 'ResNet50':\n",
        "            base_model = ResNet50(include_top=False,\n",
        "                                                    weights='imagenet',\n",
        "                                                    input_shape=(HEIGHT,WIDTH,3))\n",
        "        \n",
        "        elif ModelName == 'Xception':\n",
        "            base_model = Xception(include_top=False,\n",
        "                                                weights='imagenet',\n",
        "                                                input_shape=(HEIGHT,WIDTH,3))\n",
        "        \n",
        "        base_model.trainable = True\n",
        "        print(\"\\nNumber of layers in the base model: \", len(base_model.layers))\n",
        "        x = base_model.output\n",
        "        x = tf.keras.layers.GlobalAveragePooling2D()(x)\n",
        "        x = tf.keras.layers.Dense(1024,activation='relu')(x)\n",
        "        x = tf.keras.layers.Dense(1024,activation='relu')(x)\n",
        "        out = tf.keras.layers.Dense(1)(x)\n",
        "        model = tf.keras.models.Model(inputs=base_model.input, outputs=out)\n",
        "        \n",
        "    \n",
        "    elif ModelName == 'MobileNet'or ModelName =='VGG16':\n",
        "        base_model = MobileNet(include_top=False,\n",
        "                                                weights='imagenet',\n",
        "                                                input_shape=(HEIGHT,WIDTH,3))\n",
        "        base_model.trainable = True\n",
        "        print(\"\\nNumber of layers in the base model: \", len(base_model.layers))\n",
        "        \n",
        "        x = base_model.output\n",
        "        x = tf.keras.layers.GlobalAveragePooling2D()(x)\n",
        "        x = tf.keras.layers.Dense(1024,activation='relu')(x)\n",
        "        x = tf.keras.layers.Dense(1024,activation='relu')(x)\n",
        "        out = tf.keras.layers.Dense(1)(x)\n",
        "        model = tf.keras.models.Model(inputs=base_model.input, outputs=out)\n",
        "    \n",
        "    print('\\n--------------Done!--------------')\n",
        "    return model"
      ],
      "execution_count": null,
      "outputs": []
    },
    {
      "cell_type": "code",
      "metadata": {
        "execution": {
          "iopub.status.busy": "2021-11-30T01:27:00.744494Z",
          "iopub.execute_input": "2021-11-30T01:27:00.745195Z",
          "iopub.status.idle": "2021-11-30T01:27:00.753764Z",
          "shell.execute_reply.started": "2021-11-30T01:27:00.745156Z",
          "shell.execute_reply": "2021-11-30T01:27:00.752800Z"
        },
        "trusted": true,
        "id": "0PeINghKguQ6"
      },
      "source": [
        "def ModelDeployment(model, LearningRate, ModelName,  NbOfEpoch, StepsPerEpoch, ValidationSteps):\n",
        "    ## Freeze all the layers before the `fine_tune_at` layer\n",
        "    #for layer in base_model.layers[:fine_tune_at]:\n",
        "    #    layer.trainable =  False\n",
        "    print('--------------Deploying the Model...--------------')\n",
        "    model.compile(loss='mean_squared_error',optimizer=Adam(learning_rate=LearningRate),metrics = [RootMeanSquaredError(name=\"rmse\")])\n",
        "    monitor = EarlyStopping(monitor='val_loss',min_delta=1e-4,patience=10,verbose=1,mode='min',restore_best_weights=True)\n",
        "    #lr_scheduler = tf.keras.callbacks.LearningRateScheduler(scheduler,verbose=1)\n",
        "    lr_scheduler = tf.keras.callbacks.ReduceLROnPlateau(monitor='val_loss',\n",
        "                                                        factor=0.5,\n",
        "                                                        patience=3,\n",
        "                                                        verbose=1,\n",
        "                                                        mode='min',\n",
        "                                                        min_delta=1e-4,\n",
        "                                                        cooldown=0,\n",
        "                                                        min_lr=MIN_LR,)\n",
        "\n",
        "    filepath= ModelName+\"-{epoch:02d}-{val_rmse:.4f}.hdf5\"\n",
        "    checkpoint = tf.keras.callbacks.ModelCheckpoint(filepath,monitor='val_loss',verbose=1,save_best_only=False,save_weights_only=True,mode='min',save_freq = 'epoch')\n",
        "    print('--------------Deployed Successfully--------------')\n",
        "    print('--------------Training Begins--------------')\n",
        "    history = model.fit(train_generator,epochs = NbOfEpoch,steps_per_epoch = StepsPerEpoch,validation_data = val_generator,verbose = 1,validation_steps = ValidationSteps,callbacks = [monitor,lr_scheduler,checkpoint])\n",
        "    return history"
      ],
      "execution_count": null,
      "outputs": []
    },
    {
      "cell_type": "markdown",
      "metadata": {
        "id": "lxHHA0vmhGOj"
      },
      "source": [
        "Model1: ResNet50"
      ]
    },
    {
      "cell_type": "code",
      "metadata": {
        "execution": {
          "iopub.status.busy": "2021-11-30T01:27:12.856669Z",
          "iopub.execute_input": "2021-11-30T01:27:12.856928Z",
          "iopub.status.idle": "2021-11-30T01:27:20.196019Z",
          "shell.execute_reply.started": "2021-11-30T01:27:12.856899Z",
          "shell.execute_reply": "2021-11-30T01:27:20.195099Z"
        },
        "trusted": true,
        "id": "_CBqBDR8guQ7"
      },
      "source": [
        "#resnet50\n",
        "HEIGHT = 256\n",
        "WIDTH = 256\n",
        "BATCH_SIZE = 32\n",
        "\n",
        "train_generator, val_generator = DataGeneration(Height = HEIGHT, \n",
        "                                                Width = WIDTH,\n",
        "                                                BatchSize = BATCH_SIZE)"
      ],
      "execution_count": null,
      "outputs": []
    },
    {
      "cell_type": "code",
      "metadata": {
        "execution": {
          "iopub.status.busy": "2021-11-24T18:47:22.936094Z",
          "iopub.execute_input": "2021-11-24T18:47:22.93656Z",
          "iopub.status.idle": "2021-11-24T18:47:22.943264Z",
          "shell.execute_reply.started": "2021-11-24T18:47:22.936517Z",
          "shell.execute_reply": "2021-11-24T18:47:22.942561Z"
        },
        "trusted": true,
        "id": "iQbEak6JguQ7"
      },
      "source": [
        "tf.keras.backend.clear_session()"
      ],
      "execution_count": null,
      "outputs": []
    },
    {
      "cell_type": "code",
      "metadata": {
        "execution": {
          "iopub.status.busy": "2021-11-30T01:27:25.981853Z",
          "iopub.execute_input": "2021-11-30T01:27:25.982616Z",
          "iopub.status.idle": "2021-11-30T01:27:30.573802Z",
          "shell.execute_reply.started": "2021-11-30T01:27:25.982578Z",
          "shell.execute_reply": "2021-11-30T01:27:30.573120Z"
        },
        "trusted": true,
        "id": "agZXyRcDguQ7"
      },
      "source": [
        "Resnet_based_model = BuildModel('ResNet50')\n",
        "Resnet_based_model.summary()"
      ],
      "execution_count": null,
      "outputs": []
    },
    {
      "cell_type": "code",
      "metadata": {
        "execution": {
          "iopub.status.busy": "2021-11-30T01:28:05.327303Z",
          "iopub.execute_input": "2021-11-30T01:28:05.328085Z",
          "iopub.status.idle": "2021-11-30T01:28:21.829674Z",
          "shell.execute_reply.started": "2021-11-30T01:28:05.328036Z",
          "shell.execute_reply": "2021-11-30T01:28:21.827218Z"
        },
        "trusted": true,
        "id": "zmaVreRdguQ7"
      },
      "source": [
        "STEPS_PER_EPOCH = train_generator.n//BATCH_SIZE\n",
        "VALIDATION_STEPS = val_generator.n//BATCH_SIZE\n",
        "LEARNING_RATE = 1e-3\n",
        "NB_EPOCH = 250\n",
        "MIN_LR = LEARNING_RATE/10\n",
        "Resnet50_history = ModelDeployment(model = Resnet_based_model, \n",
        "                                   LearningRate = LEARNING_RATE, \n",
        "                                   ModelName = 'ResNet50',  \n",
        "                                   NbOfEpoch = NB_EPOCH, \n",
        "                                   StepsPerEpoch = STEPS_PER_EPOCH, \n",
        "                                   ValidationSteps = VALIDATION_STEPS)"
      ],
      "execution_count": null,
      "outputs": []
    },
    {
      "cell_type": "markdown",
      "metadata": {
        "id": "tg9WZQmQhKM8"
      },
      "source": [
        "Model2: Xception"
      ]
    },
    {
      "cell_type": "code",
      "metadata": {
        "id": "ZOonBPaZguQ8"
      },
      "source": [
        "#xception\n",
        "tf.keras.backend.clear_session()"
      ],
      "execution_count": null,
      "outputs": []
    },
    {
      "cell_type": "code",
      "metadata": {
        "execution": {
          "iopub.status.busy": "2021-11-30T01:28:26.648325Z",
          "iopub.execute_input": "2021-11-30T01:28:26.649044Z",
          "iopub.status.idle": "2021-11-30T01:28:33.645974Z",
          "shell.execute_reply.started": "2021-11-30T01:28:26.649002Z",
          "shell.execute_reply": "2021-11-30T01:28:33.645139Z"
        },
        "trusted": true,
        "id": "94E3SX98guQ8"
      },
      "source": [
        "HEIGHT = 256\n",
        "WIDTH = 256\n",
        "BATCH_SIZE = 32\n",
        "\n",
        "train_generator, val_generator = DataGeneration(Height = HEIGHT, \n",
        "                                                Width = WIDTH,\n",
        "                                                BatchSize = BATCH_SIZE)"
      ],
      "execution_count": null,
      "outputs": []
    },
    {
      "cell_type": "code",
      "metadata": {
        "execution": {
          "iopub.status.busy": "2021-11-30T01:28:36.550035Z",
          "iopub.execute_input": "2021-11-30T01:28:36.550293Z",
          "iopub.status.idle": "2021-11-30T01:28:39.628539Z",
          "shell.execute_reply.started": "2021-11-30T01:28:36.550262Z",
          "shell.execute_reply": "2021-11-30T01:28:39.627809Z"
        },
        "trusted": true,
        "id": "E3Kiwm0_guQ8"
      },
      "source": [
        "Xception_based_model = BuildModel(ModelName='Xception')\n",
        "Xception_based_model.summary()"
      ],
      "execution_count": null,
      "outputs": []
    },
    {
      "cell_type": "code",
      "metadata": {
        "execution": {
          "iopub.status.busy": "2021-11-30T01:28:47.167150Z",
          "iopub.execute_input": "2021-11-30T01:28:47.167410Z",
          "iopub.status.idle": "2021-11-30T01:29:00.476001Z",
          "shell.execute_reply.started": "2021-11-30T01:28:47.167377Z",
          "shell.execute_reply": "2021-11-30T01:29:00.473489Z"
        },
        "trusted": true,
        "id": "AudlX4_VguQ8"
      },
      "source": [
        "STEPS_PER_EPOCH = train_generator.n//BATCH_SIZE\n",
        "VALIDATION_STEPS = val_generator.n//BATCH_SIZE\n",
        "LEARNING_RATE = 1e-3\n",
        "NB_EPOCH =50\n",
        "MIN_LR = 1e-4\n",
        "Xception_history = ModelDeployment(model = Xception_based_model, \n",
        "                                   LearningRate = LEARNING_RATE, \n",
        "                                   ModelName = 'Xception',  \n",
        "                                   NbOfEpoch = NB_EPOCH, \n",
        "                                   StepsPerEpoch = STEPS_PER_EPOCH, \n",
        "                                   ValidationSteps = VALIDATION_STEPS)"
      ],
      "execution_count": null,
      "outputs": []
    },
    {
      "cell_type": "markdown",
      "metadata": {
        "id": "HrDmXj4ehjEj"
      },
      "source": [
        "Module3:MobileNet"
      ]
    },
    {
      "cell_type": "code",
      "metadata": {
        "id": "INPOxEy0guQ9"
      },
      "source": [
        "#mobilenet\n",
        "tf.keras.backend.clear_session()"
      ],
      "execution_count": null,
      "outputs": []
    },
    {
      "cell_type": "code",
      "metadata": {
        "execution": {
          "iopub.status.busy": "2021-11-30T01:30:07.052805Z",
          "iopub.execute_input": "2021-11-30T01:30:07.053074Z",
          "iopub.status.idle": "2021-11-30T01:30:14.516116Z",
          "shell.execute_reply.started": "2021-11-30T01:30:07.053041Z",
          "shell.execute_reply": "2021-11-30T01:30:14.515335Z"
        },
        "trusted": true,
        "id": "V82vA_WRguQ9"
      },
      "source": [
        "HEIGHT = 256\n",
        "WIDTH = 256\n",
        "BATCH_SIZE = 32\n",
        "\n",
        "train_generator, val_generator = DataGeneration(Height = HEIGHT, \n",
        "                                                Width = WIDTH,\n",
        "                                                BatchSize = BATCH_SIZE)"
      ],
      "execution_count": null,
      "outputs": []
    },
    {
      "cell_type": "code",
      "metadata": {
        "execution": {
          "iopub.status.busy": "2021-11-30T01:30:23.855608Z",
          "iopub.execute_input": "2021-11-30T01:30:23.855863Z",
          "iopub.status.idle": "2021-11-30T01:30:24.461368Z",
          "shell.execute_reply.started": "2021-11-30T01:30:23.855833Z",
          "shell.execute_reply": "2021-11-30T01:30:24.460504Z"
        },
        "trusted": true,
        "id": "A5tDKPF-guQ9"
      },
      "source": [
        "MobileNet_based_model = BuildModel(ModelName='MobileNet')\n",
        "MobileNet_based_model.summary()"
      ],
      "execution_count": null,
      "outputs": []
    },
    {
      "cell_type": "code",
      "metadata": {
        "execution": {
          "iopub.status.busy": "2021-11-30T01:30:53.666537Z",
          "iopub.execute_input": "2021-11-30T01:30:53.667312Z",
          "iopub.status.idle": "2021-11-30T01:31:00.366834Z",
          "shell.execute_reply.started": "2021-11-30T01:30:53.667266Z",
          "shell.execute_reply": "2021-11-30T01:31:00.363514Z"
        },
        "trusted": true,
        "id": "-Y3EpKZhguQ9"
      },
      "source": [
        "STEPS_PER_EPOCH = train_generator.n//BATCH_SIZE\n",
        "\n",
        "VALIDATION_STEPS = val_generator.n//BATCH_SIZE\n",
        "\n",
        "LEARNING_RATE = 1e-4\n",
        "MIN_LR = LEARNING_RATE/10\n",
        "NB_EPOCH = 100\n",
        "\n",
        "MobileNet_history = ModelDeployment(model = MobileNet_based_model, \n",
        "                                   LearningRate = LEARNING_RATE, \n",
        "                                   ModelName = 'MobileNet',  \n",
        "                                   NbOfEpoch = NB_EPOCH, \n",
        "                                   StepsPerEpoch = STEPS_PER_EPOCH, \n",
        "                                   ValidationSteps = VALIDATION_STEPS)"
      ],
      "execution_count": null,
      "outputs": []
    },
    {
      "cell_type": "markdown",
      "metadata": {
        "id": "5PvtFG9phRQr"
      },
      "source": [
        "Model4: VGG16"
      ]
    },
    {
      "cell_type": "code",
      "metadata": {
        "execution": {
          "iopub.status.busy": "2021-11-30T01:29:23.185138Z",
          "iopub.execute_input": "2021-11-30T01:29:23.185411Z",
          "iopub.status.idle": "2021-11-30T01:29:30.476170Z",
          "shell.execute_reply.started": "2021-11-30T01:29:23.185370Z",
          "shell.execute_reply": "2021-11-30T01:29:30.475402Z"
        },
        "trusted": true,
        "id": "2oXTy2CwguQ8"
      },
      "source": [
        "#vgg16-We finally didn't use it for blending\n",
        "HEIGHT = 256\n",
        "WIDTH = 256\n",
        "BATCH_SIZE = 32\n",
        "\n",
        "train_generator, val_generator = DataGeneration(Height = HEIGHT, \n",
        "                                                Width = WIDTH,\n",
        "                                                BatchSize = BATCH_SIZE)"
      ],
      "execution_count": null,
      "outputs": []
    },
    {
      "cell_type": "code",
      "metadata": {
        "execution": {
          "iopub.status.busy": "2021-11-30T01:29:32.250796Z",
          "iopub.execute_input": "2021-11-30T01:29:32.251252Z",
          "iopub.status.idle": "2021-11-30T01:29:33.385273Z",
          "shell.execute_reply.started": "2021-11-30T01:29:32.251215Z",
          "shell.execute_reply": "2021-11-30T01:29:33.384607Z"
        },
        "trusted": true,
        "id": "MkTIlCZcguQ8"
      },
      "source": [
        "vgg16_based_model = BuildModel(ModelName='VGG16')\n",
        "vgg16_based_model.summary()"
      ],
      "execution_count": null,
      "outputs": []
    },
    {
      "cell_type": "code",
      "metadata": {
        "execution": {
          "iopub.status.busy": "2021-11-30T01:29:54.497411Z",
          "iopub.execute_input": "2021-11-30T01:29:54.498013Z",
          "iopub.status.idle": "2021-11-30T01:30:00.256466Z",
          "shell.execute_reply.started": "2021-11-30T01:29:54.497974Z",
          "shell.execute_reply": "2021-11-30T01:30:00.255108Z"
        },
        "trusted": true,
        "id": "tkUPS5zRguQ9"
      },
      "source": [
        "STEPS_PER_EPOCH = train_generator.n//BATCH_SIZE\n",
        "VALIDATION_STEPS = val_generator.n//BATCH_SIZE\n",
        "LEARNING_RATE = 1e-3\n",
        "NB_EPOCH =250\n",
        "MIN_LR = LEARNING_RATE/10\n",
        "vgg16_history = ModelDeployment(model = vgg16_based_model, \n",
        "                                   LearningRate = LEARNING_RATE, \n",
        "                                   ModelName = 'VGG16',  \n",
        "                                   NbOfEpoch = NB_EPOCH, \n",
        "                                   StepsPerEpoch = STEPS_PER_EPOCH, \n",
        "                                   ValidationSteps = VALIDATION_STEPS)"
      ],
      "execution_count": null,
      "outputs": []
    },
    {
      "cell_type": "markdown",
      "metadata": {
        "id": "J_Z7rkB_hrAk"
      },
      "source": [
        "## Part 4: Clipping & Blending & Submit"
      ]
    },
    {
      "cell_type": "code",
      "metadata": {
        "execution": {
          "iopub.status.busy": "2021-11-30T01:31:04.354938Z",
          "iopub.execute_input": "2021-11-30T01:31:04.355477Z",
          "iopub.status.idle": "2021-11-30T01:31:04.360529Z",
          "shell.execute_reply.started": "2021-11-30T01:31:04.355422Z",
          "shell.execute_reply": "2021-11-30T01:31:04.358664Z"
        },
        "trusted": true,
        "id": "4AgA1Fx6guQ9"
      },
      "source": [
        "#submit\n",
        "HEIGHT = 256\n",
        "WIDTH = 256\n",
        "BATCH_SIZE = 32"
      ],
      "execution_count": null,
      "outputs": []
    },
    {
      "cell_type": "code",
      "metadata": {
        "execution": {
          "iopub.status.busy": "2021-11-30T01:31:07.328241Z",
          "iopub.execute_input": "2021-11-30T01:31:07.328946Z",
          "iopub.status.idle": "2021-11-30T01:31:16.168838Z",
          "shell.execute_reply.started": "2021-11-30T01:31:07.328906Z",
          "shell.execute_reply": "2021-11-30T01:31:16.168119Z"
        },
        "trusted": true,
        "id": "3q0eEJZBguQ9"
      },
      "source": [
        "Resnet_based_model = BuildModel(ModelName='ResNet50')\n",
        "Xception_based_model = BuildModel(ModelName='Xception')\n",
        "MobileNet_based_model = BuildModel(ModelName='MobileNet')\n",
        "#VGG16_based_model = BuildModel(ModelName='VGG16')"
      ],
      "execution_count": null,
      "outputs": []
    },
    {
      "cell_type": "code",
      "metadata": {
        "execution": {
          "iopub.status.busy": "2021-11-30T01:32:21.980086Z",
          "iopub.execute_input": "2021-11-30T01:32:21.980356Z",
          "iopub.status.idle": "2021-11-30T01:32:26.640180Z",
          "shell.execute_reply.started": "2021-11-30T01:32:21.980306Z",
          "shell.execute_reply": "2021-11-30T01:32:26.638538Z"
        },
        "trusted": true,
        "id": "hZ9ad_gwguQ9"
      },
      "source": [
        "Resnet_based_model.load_weights('../input/resnet50498/best_ResNet50-38-498.5083.hdf5')\n",
        "Xception_based_model.load_weights('../input/xception461/Xception-26-461.7788.hdf5')\n",
        "MobileNet_based_model.load_weights('../input/vgg16-result/VGG16-21-514.5883.hdf5')\n",
        "#VGG16_based_model.load_weights('../input/1129kaggle4/VGG16-21-514.5883.hdf5')\n"
      ],
      "execution_count": null,
      "outputs": []
    },
    {
      "cell_type": "code",
      "metadata": {
        "execution": {
          "iopub.status.busy": "2021-11-30T01:32:39.050635Z",
          "iopub.execute_input": "2021-11-30T01:32:39.051056Z",
          "iopub.status.idle": "2021-11-30T01:32:39.434099Z",
          "shell.execute_reply.started": "2021-11-30T01:32:39.050990Z",
          "shell.execute_reply": "2021-11-30T01:32:39.432642Z"
        },
        "trusted": true,
        "id": "ql8RDkpiguQ9"
      },
      "source": [
        "submit_datagen = tf.keras.preprocessing.image.ImageDataGenerator(rescale = 1./255)\n",
        "\n",
        "submit_generator = submit_datagen.flow_from_dataframe(\n",
        "        dataframe=df_test,\n",
        "        directory=PATH,\n",
        "        x_col=\"filename\",\n",
        "        batch_size = 1,\n",
        "        shuffle = False,\n",
        "        target_size=(HEIGHT, WIDTH),\n",
        "        class_mode=None)\n",
        "\n",
        "submit_generator.reset()\n"
      ],
      "execution_count": null,
      "outputs": []
    },
    {
      "cell_type": "code",
      "metadata": {
        "execution": {
          "iopub.status.busy": "2021-11-30T01:32:49.392109Z",
          "iopub.execute_input": "2021-11-30T01:32:49.392372Z",
          "iopub.status.idle": "2021-11-30T01:33:19.471341Z",
          "shell.execute_reply.started": "2021-11-30T01:32:49.392341Z",
          "shell.execute_reply": "2021-11-30T01:33:19.470597Z"
        },
        "trusted": true,
        "id": "nQQ8tNMcguQ9"
      },
      "source": [
        "Resnet_pred = Resnet_based_model.predict(submit_generator,steps=len(df_test))\n",
        "Xception_pred = Xception_based_model.predict(submit_generator,steps=len(df_test))\n",
        "MobileNet_pred = MobileNet_based_model.predict(submit_generator,steps=len(df_test))\n",
        "#VGG16_pred = VGG16_based_model.predict(submit_generator,steps=len(df_test))"
      ],
      "execution_count": null,
      "outputs": []
    },
    {
      "cell_type": "code",
      "metadata": {
        "execution": {
          "iopub.status.busy": "2021-11-30T01:34:40.685707Z",
          "iopub.execute_input": "2021-11-30T01:34:40.686289Z",
          "iopub.status.idle": "2021-11-30T01:34:40.695602Z",
          "shell.execute_reply.started": "2021-11-30T01:34:40.686246Z",
          "shell.execute_reply": "2021-11-30T01:34:40.694685Z"
        },
        "trusted": true,
        "id": "WyLMw2vCguQ-"
      },
      "source": [
        "Resnet_clipped_pred = np.clip(Resnet_pred,np.percentile(Resnet_pred,4),np.percentile(Resnet_pred,96))\n",
        "Xception_clipped_pred = np.clip(Xception_pred,np.percentile(Xception_pred,3),np.percentile(Xception_pred,97))\n",
        "MobileNet_clipped_pred = np.clip(MobileNet_pred,np.percentile(MobileNet_pred,4),np.percentile(MobileNet_pred,96))\n",
        "#VGG16_clipped_val_pred = np.clip(MobileNet_val_pred,np.percentile(VGG16_pred,4),np.percentile(VGG16_pred,96))\n",
        "\n",
        "ensemble_pred = 0.3*Resnet_clipped_pred + 0.5*Xception_clipped_pred + 0.2*MobileNet_clipped_pred "
      ],
      "execution_count": null,
      "outputs": []
    },
    {
      "cell_type": "code",
      "metadata": {
        "execution": {
          "iopub.status.busy": "2021-11-29T23:47:09.10627Z",
          "iopub.execute_input": "2021-11-29T23:47:09.106626Z",
          "iopub.status.idle": "2021-11-29T23:47:09.13645Z",
          "shell.execute_reply.started": "2021-11-29T23:47:09.10658Z",
          "shell.execute_reply": "2021-11-29T23:47:09.135586Z"
        },
        "trusted": true,
        "id": "wfD1qmV1guQ-"
      },
      "source": [
        "df_submit = pd.DataFrame({\"id\":df_test['id'],\"sqft\":ensemble_pred[:,0].flatten()})\n",
        "df_submit.to_csv(\"/kaggle/working/4knn_submit_mobilenet_ensamble8.csv\",index = False)"
      ],
      "execution_count": null,
      "outputs": []
    }
  ]
}